{
 "cells": [
  {
   "cell_type": "code",
   "execution_count": 10,
   "metadata": {},
   "outputs": [],
   "source": [
    "import numpy as np\n",
    "import pandas as pd\n",
    "data = pd.read_csv(\"kmt.csv\")\n",
    "x_train = data['chieucao']\n",
    "y_train = data['cannang']\n",
    "from sklearn.linear_model import LinearRegression as LR\n",
    "model_ski = LR(fit_intercept=True) "
   ]
  },
  {
   "cell_type": "code",
   "execution_count": 11,
   "metadata": {},
   "outputs": [
    {
     "name": "stdout",
     "output_type": "stream",
     "text": [
      "(33, 1)\n"
     ]
    },
    {
     "name": "stderr",
     "output_type": "stream",
     "text": [
      "C:\\Users\\Tien\\AppData\\Local\\Temp\\ipykernel_908\\1739667204.py:2: FutureWarning: Support for multi-dimensional indexing (e.g. `obj[:, None]`) is deprecated and will be removed in a future version.  Convert to a numpy array before indexing instead.\n",
      "  X_train = x_train[:, np.newaxis]\n"
     ]
    },
    {
     "data": {
      "text/plain": [
       "LinearRegression()"
      ]
     },
     "execution_count": 11,
     "metadata": {},
     "output_type": "execute_result"
    }
   ],
   "source": [
    "import numpy as np\n",
    "X_train = x_train[:, np.newaxis]\n",
    "print(X_train.shape)\n",
    "model_ski.fit(X_train, y_train)"
   ]
  },
  {
   "cell_type": "code",
   "execution_count": 4,
   "metadata": {},
   "outputs": [
    {
     "name": "stdout",
     "output_type": "stream",
     "text": [
      "a= [0.75291607]\n",
      "b= -69.21257712788439\n"
     ]
    }
   ],
   "source": [
    "print('a=', model_ski.coef_)\n",
    "print('b=', model_ski.intercept_)"
   ]
  },
  {
   "cell_type": "code",
   "execution_count": 5,
   "metadata": {},
   "outputs": [
    {
     "name": "stdout",
     "output_type": "stream",
     "text": [
      "Ban co chieu cao bao nhieu: \n",
      "[64.80648297]\n"
     ]
    }
   ],
   "source": [
    "print(\"Ban co chieu cao bao nhieu: \")\n",
    "chieucao = input()\n",
    "chieucao = int(chieucao)\n",
    "can = model_ski.predict([[chieucao]])\n",
    "print(can)"
   ]
  },
  {
   "cell_type": "code",
   "execution_count": 6,
   "metadata": {},
   "outputs": [
    {
     "name": "stdout",
     "output_type": "stream",
     "text": [
      "e= 7.393246836829298\n"
     ]
    }
   ],
   "source": [
    "#Tính sai số trung bình của mô hình\n",
    "du_doan = model_ski.predict(X_train)\n",
    "error = (y_train - du_doan)**2\n",
    "error=np.sqrt(error.sum()/error.shape[0])\n",
    "print('e=', error)"
   ]
  },
  {
   "cell_type": "code",
   "execution_count": 7,
   "metadata": {},
   "outputs": [
    {
     "data": {
      "text/plain": [
       "[<matplotlib.lines.Line2D at 0x198da0eeac0>]"
      ]
     },
     "execution_count": 7,
     "metadata": {},
     "output_type": "execute_result"
    },
    {
     "data": {
      "image/png": "[encoded data removed]",
      "text/plain": [
       "<Figure size 432x288 with 1 Axes>"
      ]
     },
     "metadata": {
      "needs_background": "light"
     },
     "output_type": "display_data"
    }
   ],
   "source": [
    "import matplotlib.pyplot as plt\n",
    "plt.plot(X_train, du_doan,'ro')\n",
    "plt.plot(X_train, y_train,'bo')"
   ]
  },
  {
   "cell_type": "code",
   "execution_count": 8,
   "metadata": {},
   "outputs": [
    {
     "data": {
      "text/html": [
       "<div>\n",
       "<style scoped>\n",
       "    .dataframe tbody tr th:only-of-type {\n",
       "        vertical-align: middle;\n",
       "    }\n",
       "\n",
       "    .dataframe tbody tr th {\n",
       "        vertical-align: top;\n",
       "    }\n",
       "\n",
       "    .dataframe thead th {\n",
       "        text-align: right;\n",
       "    }\n",
       "</style>\n",
       "<table border=\"1\" class=\"dataframe\">\n",
       "  <thead>\n",
       "    <tr style=\"text-align: right;\">\n",
       "      <th></th>\n",
       "      <th>mssv</th>\n",
       "      <th>lop</th>\n",
       "      <th>chieucao</th>\n",
       "      <th>cannang</th>\n",
       "      <th>gioitinh</th>\n",
       "      <th>do_lech_so_voi_model</th>\n",
       "    </tr>\n",
       "  </thead>\n",
       "  <tbody>\n",
       "    <tr>\n",
       "      <th>0</th>\n",
       "      <td>K185480106001</td>\n",
       "      <td>K54KMT.01</td>\n",
       "      <td>165</td>\n",
       "      <td>50</td>\n",
       "      <td>1</td>\n",
       "      <td>5.018574</td>\n",
       "    </tr>\n",
       "    <tr>\n",
       "      <th>1</th>\n",
       "      <td>K185480106002</td>\n",
       "      <td>K54KMT.01</td>\n",
       "      <td>161</td>\n",
       "      <td>47</td>\n",
       "      <td>1</td>\n",
       "      <td>5.006910</td>\n",
       "    </tr>\n",
       "    <tr>\n",
       "      <th>2</th>\n",
       "      <td>K185480106004</td>\n",
       "      <td>K54KMT.01</td>\n",
       "      <td>158</td>\n",
       "      <td>51</td>\n",
       "      <td>0</td>\n",
       "      <td>1.251838</td>\n",
       "    </tr>\n",
       "    <tr>\n",
       "      <th>3</th>\n",
       "      <td>K185480106034</td>\n",
       "      <td>K54KMT.01</td>\n",
       "      <td>171</td>\n",
       "      <td>61</td>\n",
       "      <td>1</td>\n",
       "      <td>1.463930</td>\n",
       "    </tr>\n",
       "    <tr>\n",
       "      <th>4</th>\n",
       "      <td>K185480106035</td>\n",
       "      <td>K54KMT.01</td>\n",
       "      <td>156</td>\n",
       "      <td>48</td>\n",
       "      <td>0</td>\n",
       "      <td>0.242329</td>\n",
       "    </tr>\n",
       "  </tbody>\n",
       "</table>\n",
       "</div>"
      ],
      "text/plain": [
       "            mssv        lop  chieucao  cannang  gioitinh  do_lech_so_voi_model\n",
       "0  K185480106001  K54KMT.01       165       50         1              5.018574\n",
       "1  K185480106002  K54KMT.01       161       47         1              5.006910\n",
       "2  K185480106004  K54KMT.01       158       51         0              1.251838\n",
       "3  K185480106034  K54KMT.01       171       61         1              1.463930\n",
       "4  K185480106035  K54KMT.01       156       48         0              0.242329"
      ]
     },
     "execution_count": 8,
     "metadata": {},
     "output_type": "execute_result"
    }
   ],
   "source": [
    "data['do_lech_so_voi_model']=np.abs(data['cannang'] - du_doan)\n",
    "data.head()"
   ]
  },
  {
   "cell_type": "code",
   "execution_count": 9,
   "metadata": {},
   "outputs": [
    {
     "name": "stdout",
     "output_type": "stream",
     "text": [
      "             mssv        lop  chieucao  cannang  gioitinh  \\\n",
      "8   K185480106008  K54KMT.01       170       80         1   \n",
      "19  K185480106015  K54KMT.01       160       40         0   \n",
      "27  K185480106024  K54KMT.01       167       70         1   \n",
      "29  K185520103229  K54KMT.01       170       73         1   \n",
      "32  K185520216125  K54KMT.01       160       65         1   \n",
      "\n",
      "    do_lech_so_voi_model  \n",
      "8              21.216846  \n",
      "19             11.253994  \n",
      "27             13.475594  \n",
      "29             14.216846  \n",
      "32             13.746006  \n"
     ]
    }
   ],
   "source": [
    "nguong=1.5*error\n",
    "nhung_ban_nghi_ngo=data[data['do_lech_so_voi_model']>nguong]\n",
    "print(nhung_ban_nghi_ngo)"
   ]
  }
 ],
 "metadata": {
  "interpreter": {
   "hash": "f86edf53ee3e5c41c5b743620cbd3e623d1a985ccd1852aa295d7a28d038dd5c"
  },
  "kernelspec": {
   "display_name": "Python 3.9.7 ('base')",
   "language": "python",
   "name": "python3"
  },
  "language_info": {
   "codemirror_mode": {
    "name": "ipython",
    "version": 3
   },
   "file_extension": ".py",
   "mimetype": "text/x-python",
   "name": "python",
   "nbconvert_exporter": "python",
   "pygments_lexer": "ipython3",
   "version": "3.8.5"
  },
  "orig_nbformat": 4
 },
 "nbformat": 4,
 "nbformat_minor": 2
}
